{
 "cells": [
  {
   "cell_type": "code",
   "execution_count": 118,
   "metadata": {
    "collapsed": true
   },
   "outputs": [],
   "source": [
    "import csv\n",
    "import numpy as np\n",
    "from sklearn import cluster\n",
    "from sklearn import svm\n",
    "from sklearn.preprocessing import normalize\n",
    "import random"
   ]
  },
  {
   "cell_type": "code",
   "execution_count": 119,
   "metadata": {
    "collapsed": true
   },
   "outputs": [],
   "source": [
    "data=[]\n",
    "if __name__ == \"__main__\":\n",
    "    csv_path = \"data.csv\"\n",
    "    with open(csv_path, \"rt\") as csvfile:\n",
    "        reader = csv.reader(csvfile, delimiter=',')\n",
    "        for line in reader:\n",
    "            data.append(line)\n"
   ]
  },
  {
   "cell_type": "code",
   "execution_count": 120,
   "metadata": {},
   "outputs": [
    {
     "name": "stdout",
     "output_type": "stream",
     "text": [
      "[['169', '7.6', '147', '5.1', '5.4', '2.5', '0.4', '147', '23', '115', '100', '3.23', '1.3', '2.5', '0'], ['19', '1.2', '133', '5.2', '6.4', '2.7', '0.75', '630', '149', '664', '111', '2.19', '1.3', '1.2', '0'], ['33', '0.8', '141', '3.8', '6.7', '3.7', '0.49', '20', '17', '106', '99', '3.9', '1', '3.5', '1'], ['28', '0.63', '140', '4.8', '8.3', '4.2', '0.4', '22', '16', '172', '112', '2.7', '1.4', '2.2', '1'], ['26', '1.1', '142', '4.4', '7.4', '4.4', '0.75', '24', '18', '130', '181', '1.89', '0.45', '3.1', '1'], ['28', '0.76', '142', '4.5', '6.4', '3.3', '0.9', '16', '10', '86', '110', '1.12', '1.2', '3.5', '2'], ['24', '0.77', '142', '4', '7.1', '4.4', '0.45', '19', '25', '123', '276', '3.1', '1.3', '4', '0'], ['29', '0.79', '135', '5.5', '6.8', '4.1', '0.2', '52', '28', '108', '97', '2.1', '0.95', '1.7', '3'], ['31', '0.63', '148', '3.8', '5.8', '3.5', '0.32', '61', '27', '152', '127', '1', '2.9', '2.36', '1'], ['30', '0.63', '139', '3.8', '8.4', '3.9', '0.63', '28', '15', '190', '78', '3.9', '1', '5.4', '1']]\n"
     ]
    }
   ],
   "source": [
    "random.shuffle(data)\n",
    "print(data[0:10])"
   ]
  },
  {
   "cell_type": "code",
   "execution_count": 121,
   "metadata": {
    "collapsed": true
   },
   "outputs": [],
   "source": [
    "datax=[]\n",
    "datay=[]\n",
    "for line in data:\n",
    "    datax.append(line[0:len(line)-1])\n",
    "    datay.append(int(line[len(line)-1]))\n",
    "\n",
    "\n"
   ]
  },
  {
   "cell_type": "code",
   "execution_count": 122,
   "metadata": {},
   "outputs": [
    {
     "data": {
      "text/plain": [
       "KMeans(algorithm='auto', copy_x=True, init='k-means++', max_iter=300,\n",
       "    n_clusters=4, n_init=10, n_jobs=1, precompute_distances='auto',\n",
       "    random_state=None, tol=0.0001, verbose=0)"
      ]
     },
     "execution_count": 122,
     "metadata": {},
     "output_type": "execute_result"
    }
   ],
   "source": [
    "k_means = cluster.KMeans(n_clusters=4)\n",
    "k_means.fit(datax) "
   ]
  },
  {
   "cell_type": "code",
   "execution_count": 117,
   "metadata": {},
   "outputs": [
    {
     "name": "stdout",
     "output_type": "stream",
     "text": [
      "[1 1 1 1 1 1 1 1 3 1 1 1 1 0 1 1 1 0 1 1 1 1 1 1 1 1 1 0 1 1 0 1 1 1 0 1 1\n",
      " 1 0 1 1 1 1 1 0 1 0 0 1 1 1 1 1 1 1 1 1 1 1 1 1 1 1 1 1 1 3 3 1 0 1 0 1 0\n",
      " 1 1 0 1 1 0 0 0 1 1 1 1 0 1 3 1 1 2 1 1 1 1 1 0 0 1 0 1 1 1 1 1 1 1 1 1 1\n",
      " 1 1 1 1 1 1 0 1 1 1 1 1 1 0 1 1 1 1 1 1 1 1 1 1 0 1 1 1 1 1 1 1 1 0 1 3 1\n",
      " 1 0 1 1 0 1 1 1 1 1 1 1 2 1 1 1 1 0 1 1 3 1 1 1 0 1 1 0 1 1 1 1 0 1 0 1 1\n",
      " 1 1 1 0 0 1 1 0 0 1 1 1 1 1 1 1 1 1 1 1 0 3 0 1 1 1 3 1 1 1 0 1 0 1 1 1 1\n",
      " 1 1 1 1 1 1 1 1 1 1 1 1 1 1 1 1 1 1 0 1 1 0 1 1 1 1 1 1 0 1 1 1 1 1 1 0 1\n",
      " 1 1 1 1 1 1 1 1 0 0 1 1 1 1 1 1 1 1 1 1 3 1 0 1 1 1 1 1 1 1 0 1 1 1 1 1 1\n",
      " 1 1 1 0 2 1 1 1 3 1 0 1 1 1 1 1 0 1 1 1 1 0 1 1 1 1 1 1 0 1 0 1 1 1 1 1 1\n",
      " 1 1 1 1 1 1 0 1 0 1 1 1 0 0 1 1 1 1]\n",
      "percentage error is 30.76923076923077\n"
     ]
    }
   ],
   "source": [
    "i=0\n",
    "result=k_means.labels_\n",
    "print(result)\n",
    "for line in range(0,len(datay)):\n",
    "    if(result[line]==datay[line]):\n",
    "        i=i+1\n",
    "percentage_error=i/len(datay)*100\n",
    "print(\"percentage error is\",percentage_error)"
   ]
  },
  {
   "cell_type": "code",
   "execution_count": null,
   "metadata": {
    "collapsed": true
   },
   "outputs": [],
   "source": [
    "k_means.predict(data)"
   ]
  }
 ],
 "metadata": {
  "kernelspec": {
   "display_name": "Python 3",
   "language": "python",
   "name": "python3"
  },
  "language_info": {
   "codemirror_mode": {
    "name": "ipython",
    "version": 3
   },
   "file_extension": ".py",
   "mimetype": "text/x-python",
   "name": "python",
   "nbconvert_exporter": "python",
   "pygments_lexer": "ipython3",
   "version": "3.5.4"
  }
 },
 "nbformat": 4,
 "nbformat_minor": 2
}
