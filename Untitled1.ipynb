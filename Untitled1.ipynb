{
 "cells": [
  {
   "cell_type": "code",
   "execution_count": 1,
   "metadata": {
    "collapsed": true
   },
   "outputs": [],
   "source": [
    "import csv\n",
    "import numpy as np\n",
    "from sklearn.preprocessing import normalize\n",
    "from sklearn import tree\n",
    "from sklearn.ensemble import RandomForestClassifier\n",
    "import random\n",
    "from sklearn.naive_bayes import GaussianNB\n",
    "from sklearn import svm\n",
    "from sklearn.ensemble import GradientBoostingClassifier\n"
   ]
  },
  {
   "cell_type": "code",
   "execution_count": 2,
   "metadata": {
    "collapsed": true
   },
   "outputs": [],
   "source": [
    "data=[]\n",
    "if __name__ == \"__main__\":\n",
    "    csv_path = \"good.csv\"\n",
    "    with open(csv_path, \"rt\") as csvfile:\n",
    "        reader = csv.reader(csvfile, delimiter=',')\n",
    "        for line in reader:\n",
    "            data.append(line)\n"
   ]
  },
  {
   "cell_type": "code",
   "execution_count": 3,
   "metadata": {
    "collapsed": true
   },
   "outputs": [],
   "source": [
    "random.shuffle(data)\n",
    "#print(data[0:10])"
   ]
  },
  {
   "cell_type": "code",
   "execution_count": 4,
   "metadata": {},
   "outputs": [
    {
     "name": "stdout",
     "output_type": "stream",
     "text": [
      "[ 67.     8.    14.6   25.     1.1    0.86   2.79]\n"
     ]
    }
   ],
   "source": [
    "datax=[]\n",
    "datay=[]\n",
    "for line in data:\n",
    "    datax.append(line[0:len(line)-1])\n",
    "    datay.append(int(line[len(line)-1]))\n",
    "\n",
    "\n",
    "x=np.array(datax)\n",
    "x=x.astype(np.float)\n",
    "y=np.array(datay)\n",
    "y=y.astype(np.int)\n",
    "print(x[0])\n",
    "\n"
   ]
  },
  {
   "cell_type": "code",
   "execution_count": 5,
   "metadata": {
    "collapsed": true
   },
   "outputs": [],
   "source": [
    "datax_train=x[0:100]\n",
    "datax_test= x[100:]\n",
    "datax_train[99]\n",
    "datay_train=datay[0:100]\n",
    "datay_tes=datay[100:]\n"
   ]
  },
  {
   "cell_type": "code",
   "execution_count": 6,
   "metadata": {},
   "outputs": [
    {
     "name": "stdout",
     "output_type": "stream",
     "text": [
      "0.325581395349\n"
     ]
    }
   ],
   "source": [
    "gnb = GaussianNB()\n",
    "clf = gnb.fit(datax_train, datay_train)\n",
    "Y1=clf.score(datax_test,datay_tes)\n",
    "print(Y1)"
   ]
  },
  {
   "cell_type": "code",
   "execution_count": 7,
   "metadata": {},
   "outputs": [
    {
     "name": "stdout",
     "output_type": "stream",
     "text": [
      "0.279069767442\n"
     ]
    }
   ],
   "source": [
    "clf = tree.DecisionTreeClassifier(max_depth=None, min_samples_split=2,random_state=0)\n",
    "clf = clf.fit(datax_train, datay_train)\n",
    "Y2=clf.score(datax_test,datay_tes)\n",
    "print(Y2)"
   ]
  },
  {
   "cell_type": "code",
   "execution_count": 8,
   "metadata": {},
   "outputs": [
    {
     "name": "stdout",
     "output_type": "stream",
     "text": [
      "0.558139534884\n"
     ]
    }
   ],
   "source": [
    "clf = RandomForestClassifier(n_estimators=10,max_depth=None, min_samples_split=2,random_state=0)\n",
    "clf = clf.fit(datax_train, datay_train)\n",
    "Y3=clf.score(datax_test,datay_tes)\n",
    "print(Y3)"
   ]
  },
  {
   "cell_type": "code",
   "execution_count": 9,
   "metadata": {},
   "outputs": [
    {
     "name": "stdout",
     "output_type": "stream",
     "text": [
      "0.395348837209\n"
     ]
    }
   ],
   "source": [
    "\n",
    "clf = svm.SVC()\n",
    "clf = clf.fit(datax_train, datay_train)\n",
    "Y4=clf.score(datax_test,datay_tes)\n",
    "print(Y4)"
   ]
  },
  {
   "cell_type": "code",
   "execution_count": 10,
   "metadata": {},
   "outputs": [
    {
     "data": {
      "text/plain": [
       "0.48837209302325579"
      ]
     },
     "execution_count": 10,
     "metadata": {},
     "output_type": "execute_result"
    }
   ],
   "source": [
    "clf = GradientBoostingClassifier(n_estimators=100, learning_rate=1.0,max_depth=1, random_state=0).fit(datax_train, datay_train)\n",
    "clf.score(datax_test,datay_tes) "
   ]
  },
  {
   "cell_type": "code",
   "execution_count": null,
   "metadata": {
    "collapsed": true
   },
   "outputs": [],
   "source": []
  },
  {
   "cell_type": "code",
   "execution_count": null,
   "metadata": {
    "collapsed": true
   },
   "outputs": [],
   "source": []
  }
 ],
 "metadata": {
  "kernelspec": {
   "display_name": "Python 3",
   "language": "python",
   "name": "python3"
  },
  "language_info": {
   "codemirror_mode": {
    "name": "ipython",
    "version": 3
   },
   "file_extension": ".py",
   "mimetype": "text/x-python",
   "name": "python",
   "nbconvert_exporter": "python",
   "pygments_lexer": "ipython3",
   "version": "3.5.4"
  }
 },
 "nbformat": 4,
 "nbformat_minor": 2
}
