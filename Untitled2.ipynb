{
 "cells": [
  {
   "cell_type": "code",
   "execution_count": 2,
   "metadata": {
    "collapsed": true
   },
   "outputs": [],
   "source": [
    "import csv\n",
    "import numpy as np\n",
    "from sklearn.model_selection import train_test_split\n",
    "from sklearn import svm,neighbors\n",
    "from sklearn.ensemble import VotingClassifier, RandomForestClassifier\n",
    "from sklearn.model_selection import cross_val_score\n",
    "from sklearn.naive_bayes import GaussianNB\n",
    "from sklearn.ensemble import GradientBoostingClassifier"
   ]
  },
  {
   "cell_type": "code",
   "execution_count": 3,
   "metadata": {},
   "outputs": [
    {
     "name": "stdout",
     "output_type": "stream",
     "text": [
      "[ 127.     10.9    13.3    38.7     2.1     0.95    1.7 ]\n"
     ]
    }
   ],
   "source": [
    "data=[]\n",
    "if __name__ == \"__main__\":\n",
    "    csv_path = \"good.csv\"\n",
    "    with open(csv_path, \"rt\") as csvfile:\n",
    "        reader = csv.reader(csvfile, delimiter=',')\n",
    "        for line in reader:\n",
    "            data.append(line)\n",
    "\n",
    "            \n",
    "datax=[]\n",
    "datay=[]\n",
    "for line in data:\n",
    "    datax.append(line[0:len(line)-1])\n",
    "    datay.append(int(line[len(line)-1]))\n",
    "\n",
    "\n",
    "x=np.array(datax)\n",
    "x=x.astype(np.float)\n",
    "y=np.array(datay)\n",
    "y=y.astype(np.int)\n",
    "for i in range(0,len(y)):\n",
    "    if y[i]>0:\n",
    "        y[i]=1\n",
    "print(x[1])"
   ]
  },
  {
   "cell_type": "code",
   "execution_count": 25,
   "metadata": {
    "collapsed": true
   },
   "outputs": [],
   "source": [
    "X_train, X_test, y_train, y_test = train_test_split(x, y, test_size=0.4, random_state=7)"
   ]
  },
  {
   "cell_type": "code",
   "execution_count": 26,
   "metadata": {},
   "outputs": [
    {
     "name": "stdout",
     "output_type": "stream",
     "text": [
      "0.844827586207\n"
     ]
    }
   ],
   "source": [
    " clf = VotingClassifier([('svc',svm.SVC(kernel='rbf')),\n",
    "                         ('gNB',GaussianNB()),                         \n",
    "                         ('knn',neighbors.KNeighborsClassifier()),\n",
    "                         ('rfor',RandomForestClassifier())])\n",
    "clf = clf.fit(X_train, y_train)\n",
    "print(clf.score(X_test, y_test))"
   ]
  },
  {
   "cell_type": "code",
   "execution_count": 27,
   "metadata": {},
   "outputs": [
    {
     "name": "stdout",
     "output_type": "stream",
     "text": [
      "[ 0.75        0.63157895  0.84210526]\n"
     ]
    }
   ],
   "source": [
    "p=cross_val_score(clf, X_test, y_test, scoring ='accuracy')\n",
    "print(p)"
   ]
  },
  {
   "cell_type": "code",
   "execution_count": 22,
   "metadata": {},
   "outputs": [
    {
     "data": {
      "text/plain": [
       "0.62068965517241381"
      ]
     },
     "execution_count": 22,
     "metadata": {},
     "output_type": "execute_result"
    }
   ],
   "source": [
    "clf = GradientBoostingClassifier(n_estimators=100, learning_rate=1.0,max_depth=1, random_state=0).fit(X_train,y_train)\n",
    "clf.score(X_test,y_test)"
   ]
  },
  {
   "cell_type": "code",
   "execution_count": 28,
   "metadata": {},
   "outputs": [
    {
     "name": "stdout",
     "output_type": "stream",
     "text": [
      "[ 0.7         0.78947368  0.78947368]\n"
     ]
    }
   ],
   "source": [
    "p=cross_val_score(clf, X_test, y_test, scoring ='accuracy')\n",
    "print(p)"
   ]
  },
  {
   "cell_type": "code",
   "execution_count": null,
   "metadata": {
    "collapsed": true
   },
   "outputs": [],
   "source": []
  }
 ],
 "metadata": {
  "kernelspec": {
   "display_name": "Python 3",
   "language": "python",
   "name": "python3"
  },
  "language_info": {
   "codemirror_mode": {
    "name": "ipython",
    "version": 3
   },
   "file_extension": ".py",
   "mimetype": "text/x-python",
   "name": "python",
   "nbconvert_exporter": "python",
   "pygments_lexer": "ipython3",
   "version": "3.5.4"
  }
 },
 "nbformat": 4,
 "nbformat_minor": 2
}
